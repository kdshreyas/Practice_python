{
 "cells": [
  {
   "cell_type": "raw",
   "id": "2aad31a4-70af-46a6-b7a8-a575eb2061bb",
   "metadata": {},
   "source": [
    "\n",
    "How to find average of N numbers"
   ]
  },
  {
   "cell_type": "code",
   "execution_count": 6,
   "id": "f9e849a2-e9db-4a10-9c80-6d535fca2361",
   "metadata": {},
   "outputs": [
    {
     "name": "stdin",
     "output_type": "stream",
     "text": [
      "How many numbers: 6\n",
      "What are the numbers: 1\n",
      "What are the numbers: 2\n",
      "What are the numbers: 3\n",
      "What are the numbers: 4\n",
      "What are the numbers: 2\n",
      "What are the numbers: 1\n"
     ]
    },
    {
     "name": "stdout",
     "output_type": "stream",
     "text": [
      "0.16666666666666666\n"
     ]
    }
   ],
   "source": [
    "num = int(input('How many numbers:',))\n",
    "\n",
    "for i in range(num):\n",
    "    sum = 0\n",
    "    numbers = int(input('What are the numbers:',))\n",
    "    sum += numbers   \n",
    "avg = numbers/num\n",
    "print(avg)"
   ]
  }
 ],
 "metadata": {
  "kernelspec": {
   "display_name": "hello_shreyas",
   "language": "python",
   "name": "hello_shreyas"
  },
  "language_info": {
   "codemirror_mode": {
    "name": "ipython",
    "version": 3
   },
   "file_extension": ".py",
   "mimetype": "text/x-python",
   "name": "python",
   "nbconvert_exporter": "python",
   "pygments_lexer": "ipython3",
   "version": "3.10.4"
  }
 },
 "nbformat": 4,
 "nbformat_minor": 5
}
